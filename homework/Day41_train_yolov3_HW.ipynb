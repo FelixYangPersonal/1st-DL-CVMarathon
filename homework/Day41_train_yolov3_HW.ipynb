{
 "cells": [
  {
   "cell_type": "markdown",
   "metadata": {
    "colab_type": "text",
    "id": "CG77DrrB2CrU"
   },
   "source": [
    "## 作業\n",
    "\n",
    "1. 如何使用已經訓練好的模型？\n",
    "2. 依照 https://github.com/qqwweee/keras-yolo3 的程式碼，請敘述，訓練模型時，資料集的格式是什麼？具體一點的說，要提供什麼格式的文件來描述資料集的圖片以及 bboxes 的信息呢？\n",
    "\n",
    "\n",
    "\n"
   ]
  },
  {
   "cell_type": "markdown",
   "metadata": {
    "colab": {},
    "colab_type": "code",
    "collapsed": true,
    "id": "ooyy53TW5c0L"
   },
   "source": [
    "#### Ans:\n",
    "<ol>\n",
    "<li>透過keras.models.load_model載入HDF5格式的檔案(如：model.h5)，或者透過convert.py將YOLO的模型(.cfg)和權重(.weights)轉換為Keras模型(.h5)</li>\n",
    "<li>YOLO需要&lt;object-class&gt; &lt;x&gt; &lt;y&gt; &lt;width&gt; &lt;height&gt;這5個資訊，如以Pascal VOC資料集為例：<br/>\n",
    "<ul>\n",
    "<li>dataset：資料集圖像(.jpg)、標註檔(.xml)，bboxes需要的訊息存放在標註檔內，且也存放著該圖片的class</li>\n",
    "<li>.names：存放object-class</li>\n",
    "<li>train.txt：存放訓練圖像名稱</li>\n",
    "<li>test.txt：存放測試圖像名稱</li>\n",
    "</ul>\n",
    "</li>\n",
    "</ol>"
   ]
  }
 ],
 "metadata": {
  "accelerator": "GPU",
  "colab": {
   "collapsed_sections": [],
   "name": "Day41_train_yolov3_HW.ipynb",
   "provenance": []
  },
  "kernelspec": {
   "display_name": "Python 3",
   "language": "python",
   "name": "python3"
  },
  "language_info": {
   "codemirror_mode": {
    "name": "ipython",
    "version": 3
   },
   "file_extension": ".py",
   "mimetype": "text/x-python",
   "name": "python",
   "nbconvert_exporter": "python",
   "pygments_lexer": "ipython3",
   "version": "3.7.6"
  }
 },
 "nbformat": 4,
 "nbformat_minor": 1
}
