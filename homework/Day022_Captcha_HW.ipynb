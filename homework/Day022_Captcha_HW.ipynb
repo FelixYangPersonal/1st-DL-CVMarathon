{
 "cells": [
  {
   "cell_type": "markdown",
   "metadata": {
    "colab_type": "text",
    "id": "P3MPyKkaKzbB"
   },
   "source": [
    "## 『本次練習內容』\n",
    "#### 搭建一個能識別驗證碼的模型(CNN+CTC)"
   ]
  },
  {
   "cell_type": "markdown",
   "metadata": {
    "colab_type": "text",
    "id": "whPA3WCHKzbE"
   },
   "source": [
    "## 『本次練習目的』\n",
    "  #### 了解如何結合CNN與CTC Loss\n",
    "  #### 有時間學員也可以延伸閱讀CNN+RNN+CTC模型\n",
    "  #### 沒有GPU的學員可以使用Colab，可以參考問答區的文章"
   ]
  },
  {
   "cell_type": "code",
   "execution_count": 1,
   "metadata": {
    "colab": {},
    "colab_type": "code",
    "id": "-yORZcW7KzbG"
   },
   "outputs": [],
   "source": [
    "# # 使用Colab可先run這裡的code\n",
    "# # 假如要連結自己的雲端硬碟再開啟\n",
    "# from google.colab import drive\n",
    "# drive.mount('/content/gdrive')\n",
    "# # 檢查GPU\n",
    "# !nvidia-smi"
   ]
  },
  {
   "cell_type": "markdown",
   "metadata": {
    "colab_type": "text",
    "id": "TAK8WtGEKzbK"
   },
   "source": [
    "## 記得先 pip install captcha"
   ]
  },
  {
   "cell_type": "code",
   "execution_count": 2,
   "metadata": {
    "colab": {
     "base_uri": "https://localhost:8080/",
     "height": 119
    },
    "colab_type": "code",
    "id": "AxGi02yvx1Go",
    "outputId": "7c9705eb-b1a1-4cfa-939d-a973c9545405"
   },
   "outputs": [
    {
     "name": "stdout",
     "output_type": "stream",
     "text": [
      "Collecting captcha\n",
      "\u001b[?25l  Downloading https://files.pythonhosted.org/packages/90/fe/d4ddf1e6576073b5eaea76e9b2afa022c626212a30c871968480be3ccb7b/captcha-0.3-py3-none-any.whl (101kB)\n",
      "\r",
      "\u001b[K     |███▎                            | 10kB 33.2MB/s eta 0:00:01\r",
      "\u001b[K     |██████▌                         | 20kB 4.6MB/s eta 0:00:01\r",
      "\u001b[K     |█████████▊                      | 30kB 4.7MB/s eta 0:00:01\r",
      "\u001b[K     |█████████████                   | 40kB 5.1MB/s eta 0:00:01\r",
      "\u001b[K     |████████████████▏               | 51kB 5.3MB/s eta 0:00:01\r",
      "\u001b[K     |███████████████████▍            | 61kB 6.2MB/s eta 0:00:01\r",
      "\u001b[K     |██████████████████████▋         | 71kB 6.0MB/s eta 0:00:01\r",
      "\u001b[K     |█████████████████████████▉      | 81kB 6.1MB/s eta 0:00:01\r",
      "\u001b[K     |█████████████████████████████   | 92kB 6.8MB/s eta 0:00:01\r",
      "\u001b[K     |████████████████████████████████| 102kB 5.1MB/s \n",
      "\u001b[?25hRequirement already satisfied: Pillow in /usr/local/lib/python3.6/dist-packages (from captcha) (6.2.2)\n",
      "Installing collected packages: captcha\n",
      "Successfully installed captcha-0.3\n"
     ]
    }
   ],
   "source": [
    "# 安裝產生驗證碼的套件\n",
    "!pip install captcha"
   ]
  },
  {
   "cell_type": "markdown",
   "metadata": {
    "colab_type": "text",
    "id": "JpODyfnyKzbQ"
   },
   "source": [
    "## 產生驗證碼"
   ]
  },
  {
   "cell_type": "code",
   "execution_count": 3,
   "metadata": {
    "colab": {
     "base_uri": "https://localhost:8080/",
     "height": 271
    },
    "colab_type": "code",
    "id": "h2VVCBKwk6Zv",
    "outputId": "927f0597-6d12-4a52-ebc8-ab8584ec9f6b"
   },
   "outputs": [
    {
     "name": "stdout",
     "output_type": "stream",
     "text": [
      "0123456789ABCDEFGHIJKLMNOPQRSTUVWXYZ\n",
      "170 80 4 37\n"
     ]
    },
    {
     "data": {
      "text/plain": [
       "Text(0.5, 1.0, 'HV7Y')"
      ]
     },
     "execution_count": 3,
     "metadata": {
      "tags": []
     },
     "output_type": "execute_result"
    },
    {
     "data": {
      "image/png": "[encoded data removed]",
      "text/plain": [
       "<Figure size 432x288 with 1 Axes>"
      ]
     },
     "metadata": {
      "image/png": {
       "height": 203,
       "width": 369
      },
      "tags": []
     },
     "output_type": "display_data"
    }
   ],
   "source": [
    "from captcha.image import ImageCaptcha\n",
    "import matplotlib.pyplot as plt\n",
    "import numpy as np\n",
    "import random\n",
    "import string\n",
    "\n",
    "%matplotlib inline\n",
    "%config InlineBackend.figure_format = 'retina'\n",
    "\n",
    "# 驗證碼包含0-10數字以及26個英文字母\n",
    "characters = string.digits + string.ascii_uppercase\n",
    "print(characters)\n",
    "\n",
    "# 設定產生圖片尺寸，以及總類別，n_class之所以要加一是為了留一個位置給Blank\n",
    "width, height, n_len, n_class = 170, 80, 4, len(characters)+1\n",
    "print(width, height, n_len, n_class)\n",
    "# 設定產生驗證碼的generator\n",
    "generator = ImageCaptcha(width=width, height=height)\n",
    "\n",
    "# 我們先練習固定長度4個字的驗證碼\n",
    "random_str = ''.join([random.choice(characters) for j in range(4)])\n",
    "img = generator.generate_image(random_str)\n",
    "\n",
    "plt.imshow(img)\n",
    "plt.title(random_str)"
   ]
  },
  {
   "cell_type": "markdown",
   "metadata": {
    "colab_type": "text",
    "id": "mb4S8telKzbX"
   },
   "source": [
    "## 自己搭建一個CNN模型使得output feature Map 高度被壓縮成小於4，8<寬度<20\n",
    "#### 解答的output feature Map 為 (batch_size,1,13,32)"
   ]
  },
  {
   "cell_type": "code",
   "execution_count": 4,
   "metadata": {
    "colab": {
     "base_uri": "https://localhost:8080/",
     "height": 34
    },
    "colab_type": "code",
    "id": "pxDiE7yoJg0I",
    "outputId": "e47cdc57-3439-4e54-a9d6-2df55959cb36"
   },
   "outputs": [
    {
     "name": "stdout",
     "output_type": "stream",
     "text": [
      "TensorFlow 2.x selected.\n"
     ]
    }
   ],
   "source": [
    "%tensorflow_version 2.x\n",
    "import tensorflow as tf\n",
    "import tensorflow.keras\n",
    "from tensorflow.keras import backend as K\n",
    "from tensorflow.keras.models import *\n",
    "from tensorflow.keras.layers import *"
   ]
  },
  {
   "cell_type": "code",
   "execution_count": 5,
   "metadata": {
    "colab": {},
    "colab_type": "code",
    "id": "CTY_A24zKzbf"
   },
   "outputs": [],
   "source": [
    "# CTC Loss需要四個資訊，分別是\n",
    "# Label\n",
    "# 預測\n",
    "# CNN OUTPUT寬度\n",
    "# 預測影像所包含文字長度\n",
    "def ctc_lambda_func(args):\n",
    "  y_pred, labels, input_length, label_length = args\n",
    "  return K.ctc_batch_cost(labels, y_pred, input_length, label_length)"
   ]
  },
  {
   "cell_type": "code",
   "execution_count": 6,
   "metadata": {
    "colab": {},
    "colab_type": "code",
    "id": "KX3Jq1sClGGn"
   },
   "outputs": [],
   "source": [
    "input_tensor = Input((height, width, 3))\n",
    "x = input_tensor\n",
    "\n",
    "# 自己設計CNN層\n",
    "for i in range(4):\n",
    "  x = Convolution2D(32, (3, 3), activation='relu')(x)\n",
    "  x = BatchNormalization()(x)\n",
    "  x = Convolution2D(32, (3, 3), activation='relu')(x)\n",
    "  x = BatchNormalization()(x)\n",
    "\n",
    "  if i < 3:\n",
    "    x = MaxPooling2D()(x)\n",
    "  else:\n",
    "    x = MaxPooling2D(pool_size=(1, 1))(x)\n",
    " \n",
    "# 記錄輸出CNN尺寸，loss部分需要這個資訊\n",
    "# conv_shape=(Batch_size,輸出高度,輸出寬度,輸出深度)\n",
    "conv_shape = x.get_shape()\n",
    "\n",
    "# 從(Batch_size,輸出高度,輸出寬度,輸出深度)變成(Batch_size,輸出寬度,輸出深度*輸出高度)，以符合ctc loss需求\n",
    "x = Reshape(target_shape=(int(conv_shape[2]), int(conv_shape[1]*conv_shape[3])))(x)\n",
    "x = Dense(units=32, activation='relu')(x)\n",
    "x = Dropout(0.25)(x)\n",
    "x = Dense(n_class, activation='softmax')(x)\n",
    "\n",
    "# 包裝用來預測的model\n",
    "base_model = Model(inputs=input_tensor, outputs=x)\n",
    "\n",
    "# 設定要給CTC Loss的資訊\n",
    "labels = Input(name='the_labels', shape=[n_len], dtype='float32')\n",
    "input_length = Input(name='input_length', shape=[1], dtype='int64')\n",
    "label_length = Input(name='label_length', shape=[1], dtype='int64')\n",
    "loss_out = Lambda(ctc_lambda_func, output_shape=(1,),\n",
    "                  name='ctc')([x, labels, input_length, label_length])\n",
    "\n",
    "# 這裡的model是用來計算loss\n",
    "model = Model(inputs=[input_tensor, labels, input_length, label_length],\n",
    "              outputs=[loss_out])\n",
    "\n",
    "##之所以要lambda y_true, y_pred: y_pred是因為我們的loss已經包在網路裡，會output:y_true, y_pred，而我們只需要y_pred\n",
    "model.compile(loss={'ctc': lambda y_true, y_pred: y_pred}, optimizer='SGD')"
   ]
  },
  {
   "cell_type": "code",
   "execution_count": 7,
   "metadata": {
    "colab": {
     "base_uri": "https://localhost:8080/",
     "height": 1000
    },
    "colab_type": "code",
    "id": "m1YRv0TVN_FL",
    "outputId": "bdec071f-1824-4759-b18e-f6652c8e3ba9"
   },
   "outputs": [
    {
     "name": "stdout",
     "output_type": "stream",
     "text": [
      "Model: \"model_1\"\n",
      "__________________________________________________________________________________________________\n",
      "Layer (type)                    Output Shape         Param #     Connected to                     \n",
      "==================================================================================================\n",
      "input_1 (InputLayer)            [(None, 80, 170, 3)] 0                                            \n",
      "__________________________________________________________________________________________________\n",
      "conv2d (Conv2D)                 (None, 78, 168, 32)  896         input_1[0][0]                    \n",
      "__________________________________________________________________________________________________\n",
      "batch_normalization (BatchNorma (None, 78, 168, 32)  128         conv2d[0][0]                     \n",
      "__________________________________________________________________________________________________\n",
      "conv2d_1 (Conv2D)               (None, 76, 166, 32)  9248        batch_normalization[0][0]        \n",
      "__________________________________________________________________________________________________\n",
      "batch_normalization_1 (BatchNor (None, 76, 166, 32)  128         conv2d_1[0][0]                   \n",
      "__________________________________________________________________________________________________\n",
      "max_pooling2d (MaxPooling2D)    (None, 38, 83, 32)   0           batch_normalization_1[0][0]      \n",
      "__________________________________________________________________________________________________\n",
      "conv2d_2 (Conv2D)               (None, 36, 81, 32)   9248        max_pooling2d[0][0]              \n",
      "__________________________________________________________________________________________________\n",
      "batch_normalization_2 (BatchNor (None, 36, 81, 32)   128         conv2d_2[0][0]                   \n",
      "__________________________________________________________________________________________________\n",
      "conv2d_3 (Conv2D)               (None, 34, 79, 32)   9248        batch_normalization_2[0][0]      \n",
      "__________________________________________________________________________________________________\n",
      "batch_normalization_3 (BatchNor (None, 34, 79, 32)   128         conv2d_3[0][0]                   \n",
      "__________________________________________________________________________________________________\n",
      "max_pooling2d_1 (MaxPooling2D)  (None, 17, 39, 32)   0           batch_normalization_3[0][0]      \n",
      "__________________________________________________________________________________________________\n",
      "conv2d_4 (Conv2D)               (None, 15, 37, 32)   9248        max_pooling2d_1[0][0]            \n",
      "__________________________________________________________________________________________________\n",
      "batch_normalization_4 (BatchNor (None, 15, 37, 32)   128         conv2d_4[0][0]                   \n",
      "__________________________________________________________________________________________________\n",
      "conv2d_5 (Conv2D)               (None, 13, 35, 32)   9248        batch_normalization_4[0][0]      \n",
      "__________________________________________________________________________________________________\n",
      "batch_normalization_5 (BatchNor (None, 13, 35, 32)   128         conv2d_5[0][0]                   \n",
      "__________________________________________________________________________________________________\n",
      "max_pooling2d_2 (MaxPooling2D)  (None, 6, 17, 32)    0           batch_normalization_5[0][0]      \n",
      "__________________________________________________________________________________________________\n",
      "conv2d_6 (Conv2D)               (None, 4, 15, 32)    9248        max_pooling2d_2[0][0]            \n",
      "__________________________________________________________________________________________________\n",
      "batch_normalization_6 (BatchNor (None, 4, 15, 32)    128         conv2d_6[0][0]                   \n",
      "__________________________________________________________________________________________________\n",
      "conv2d_7 (Conv2D)               (None, 2, 13, 32)    9248        batch_normalization_6[0][0]      \n",
      "__________________________________________________________________________________________________\n",
      "batch_normalization_7 (BatchNor (None, 2, 13, 32)    128         conv2d_7[0][0]                   \n",
      "__________________________________________________________________________________________________\n",
      "max_pooling2d_3 (MaxPooling2D)  (None, 2, 13, 32)    0           batch_normalization_7[0][0]      \n",
      "__________________________________________________________________________________________________\n",
      "reshape (Reshape)               (None, 13, 64)       0           max_pooling2d_3[0][0]            \n",
      "__________________________________________________________________________________________________\n",
      "dense (Dense)                   (None, 13, 32)       2080        reshape[0][0]                    \n",
      "__________________________________________________________________________________________________\n",
      "dropout (Dropout)               (None, 13, 32)       0           dense[0][0]                      \n",
      "__________________________________________________________________________________________________\n",
      "dense_1 (Dense)                 (None, 13, 37)       1221        dropout[0][0]                    \n",
      "__________________________________________________________________________________________________\n",
      "the_labels (InputLayer)         [(None, 4)]          0                                            \n",
      "__________________________________________________________________________________________________\n",
      "input_length (InputLayer)       [(None, 1)]          0                                            \n",
      "__________________________________________________________________________________________________\n",
      "label_length (InputLayer)       [(None, 1)]          0                                            \n",
      "__________________________________________________________________________________________________\n",
      "ctc (Lambda)                    (None, 1)            0           dense_1[0][0]                    \n",
      "                                                                 the_labels[0][0]                 \n",
      "                                                                 input_length[0][0]               \n",
      "                                                                 label_length[0][0]               \n",
      "==================================================================================================\n",
      "Total params: 69,957\n",
      "Trainable params: 69,445\n",
      "Non-trainable params: 512\n",
      "__________________________________________________________________________________________________\n"
     ]
    }
   ],
   "source": [
    "model.summary()"
   ]
  },
  {
   "cell_type": "code",
   "execution_count": 8,
   "metadata": {
    "colab": {},
    "colab_type": "code",
    "id": "5Jzb1YnqlJug"
   },
   "outputs": [],
   "source": [
    "# 設計generator產生training data\n",
    "# 產生包含要給loss的資訊\n",
    "# X=輸入影像\n",
    "# np.ones(batch_size)*int(conv_shape[2])=CNN輸出feature Map寬度\n",
    "# np.ones(batch_size)*n_len=字串長度(可浮動)\n",
    "\n",
    "def gen(batch_size=128):\n",
    "  X = np.zeros((batch_size, height, width, 3), dtype=np.uint8)\n",
    "  y = np.zeros((batch_size, n_len), dtype=np.uint8)\n",
    "\n",
    "  while True:\n",
    "    generator = ImageCaptcha(width=width, height=height)\n",
    "\n",
    "    for i in range(batch_size):\n",
    "      random_str = ''.join([random.choice(characters) for j in range(4)])\n",
    "      X[i] = np.array(generator.generate_image(random_str))\n",
    "      y[i] = [characters.find(x) for x in random_str]\n",
    "\n",
    "    yield [X, y, np.ones(batch_size)*int(conv_shape[2]), \\\n",
    "           np.ones(batch_size)*n_len], np.ones(batch_size)"
   ]
  },
  {
   "cell_type": "code",
   "execution_count": 9,
   "metadata": {
    "colab": {
     "base_uri": "https://localhost:8080/",
     "height": 259
    },
    "colab_type": "code",
    "id": "dfcFs6InVQaT",
    "outputId": "89cdc2b0-48fc-4790-aba6-95bf9dd85918"
   },
   "outputs": [
    {
     "name": "stdout",
     "output_type": "stream",
     "text": [
      "Label:  [[ 5 21 29 35]]\n",
      "CNN輸出寬度:  [13.]\n",
      "字串長度(可浮動):  [4.]\n"
     ]
    },
    {
     "data": {
      "image/png": "[encoded data removed]",
      "text/plain": [
       "<Figure size 432x288 with 1 Axes>"
      ]
     },
     "metadata": {
      "image/png": {
       "height": 191,
       "width": 369
      },
      "tags": []
     },
     "output_type": "display_data"
    }
   ],
   "source": [
    "next_ge = gen(batch_size=1)\n",
    "test_ge = next(next_ge)\n",
    "plt.imshow(test_ge[0][0][0])\n",
    "print('Label: ', test_ge[0][1])\n",
    "print('CNN輸出寬度: ', test_ge[0][2])\n",
    "print('字串長度(可浮動): ', test_ge[0][3])"
   ]
  },
  {
   "cell_type": "markdown",
   "metadata": {
    "colab_type": "text",
    "id": "5v1pX6DGKzbo"
   },
   "source": [
    "## 開始訓練"
   ]
  },
  {
   "cell_type": "code",
   "execution_count": 10,
   "metadata": {
    "colab": {
     "base_uri": "https://localhost:8080/",
     "height": 799
    },
    "colab_type": "code",
    "id": "fqdKnqollUKj",
    "outputId": "e45874c7-67cb-42b2-8de4-0685a7ab068a"
   },
   "outputs": [
    {
     "name": "stdout",
     "output_type": "stream",
     "text": [
      "WARNING:tensorflow:sample_weight modes were coerced from\n",
      "  ...\n",
      "    to  \n",
      "  ['...']\n",
      "Train for 900 steps\n",
      "Epoch 1/20\n",
      "900/900 [==============================] - 149s 166ms/step - loss: 15.4775\n",
      "Epoch 2/20\n",
      "900/900 [==============================] - 136s 152ms/step - loss: 9.7341\n",
      "Epoch 3/20\n",
      "900/900 [==============================] - 135s 150ms/step - loss: 5.0820\n",
      "Epoch 4/20\n",
      "900/900 [==============================] - 135s 150ms/step - loss: 4.0709\n",
      "Epoch 5/20\n",
      "900/900 [==============================] - 133s 148ms/step - loss: 3.5498\n",
      "Epoch 6/20\n",
      "900/900 [==============================] - 133s 148ms/step - loss: 3.3071\n",
      "Epoch 7/20\n",
      "900/900 [==============================] - 132s 146ms/step - loss: 3.0630\n",
      "Epoch 8/20\n",
      "900/900 [==============================] - 131s 146ms/step - loss: 2.9542\n",
      "Epoch 9/20\n",
      "900/900 [==============================] - 131s 146ms/step - loss: 2.8248\n",
      "Epoch 10/20\n",
      "900/900 [==============================] - 130s 145ms/step - loss: 2.6498\n",
      "Epoch 11/20\n",
      "900/900 [==============================] - 131s 146ms/step - loss: 2.5815\n",
      "Epoch 12/20\n",
      "900/900 [==============================] - 130s 144ms/step - loss: 2.4057\n",
      "Epoch 13/20\n",
      "900/900 [==============================] - 130s 144ms/step - loss: 2.3362\n",
      "Epoch 14/20\n",
      "900/900 [==============================] - 132s 146ms/step - loss: 2.2672\n",
      "Epoch 15/20\n",
      "900/900 [==============================] - 131s 145ms/step - loss: 2.2534\n",
      "Epoch 16/20\n",
      "900/900 [==============================] - 136s 151ms/step - loss: 2.2354\n",
      "Epoch 17/20\n",
      "900/900 [==============================] - 134s 149ms/step - loss: 2.1396\n",
      "Epoch 18/20\n",
      "900/900 [==============================] - 133s 148ms/step - loss: 2.1179\n",
      "Epoch 19/20\n",
      "900/900 [==============================] - 133s 147ms/step - loss: 2.0432\n",
      "Epoch 20/20\n",
      "900/900 [==============================] - 132s 146ms/step - loss: 2.0305\n"
     ]
    },
    {
     "data": {
      "text/plain": [
       "<tensorflow.python.keras.callbacks.History at 0x7fa17c5b6cf8>"
      ]
     },
     "execution_count": 10,
     "metadata": {
      "tags": []
     },
     "output_type": "execute_result"
    }
   ],
   "source": [
    "model.fit(gen(32), steps_per_epoch=900, epochs=20)"
   ]
  },
  {
   "cell_type": "markdown",
   "metadata": {
    "colab_type": "text",
    "id": "4fhSGg41Kzbt"
   },
   "source": [
    "## 預測"
   ]
  },
  {
   "cell_type": "code",
   "execution_count": 11,
   "metadata": {
    "colab": {
     "base_uri": "https://localhost:8080/",
     "height": 285
    },
    "colab_type": "code",
    "id": "JQertSpSKzbu",
    "outputId": "f1e3ec06-f1f0-400f-c960-df442261c9e1"
   },
   "outputs": [
    {
     "name": "stdout",
     "output_type": "stream",
     "text": [
      "WARNING:tensorflow:From /tensorflow-2.1.0/python3.6/tensorflow_core/python/keras/backend.py:5811: sparse_to_dense (from tensorflow.python.ops.sparse_ops) is deprecated and will be removed in a future version.\n",
      "Instructions for updating:\n",
      "Create a `tf.sparse.SparseTensor` and use `tf.sparse.to_dense` instead.\n"
     ]
    },
    {
     "data": {
      "image/png": "[encoded data removed]",
      "text/plain": [
       "<Figure size 432x288 with 1 Axes>"
      ]
     },
     "metadata": {
      "image/png": {
       "height": 217,
       "width": 369
      },
      "tags": []
     },
     "output_type": "display_data"
    }
   ],
   "source": [
    "characters2 = characters + ' '\n",
    "[X_test, y_test, _, _], _  = next(gen(1))\n",
    "y_pred = base_model.predict(X_test)\n",
    "\n",
    "# 用ctc_decode得到解答，自己寫可以參考下方\n",
    "out = K.get_value(K.ctc_decode(y_pred,\n",
    "                               input_length=np.ones(y_pred.shape[0])*y_pred.shape[1],)[0][0])\n",
    "out = ''.join([characters[x] for x in out[0]])\n",
    "y_true = ''.join([characters[x] for x in y_test[0]])\n",
    "\n",
    "plt.imshow(X_test[0])\n",
    "plt.title('pred:' + str(out) + '\\ntrue: ' + str(y_true))\n",
    "\n",
    "argmax = np.argmax(y_pred, axis=2)[0]"
   ]
  },
  {
   "cell_type": "markdown",
   "metadata": {
    "colab_type": "text",
    "id": "6_DB6Bw8Kzbx"
   },
   "source": [
    "## 自己寫 decode CTC"
   ]
  },
  {
   "cell_type": "code",
   "execution_count": 12,
   "metadata": {
    "colab": {
     "base_uri": "https://localhost:8080/",
     "height": 34
    },
    "colab_type": "code",
    "id": "k7_tFrIiKzby",
    "outputId": "71670f2d-1ee9-4308-e8f7-13c9f2266d6d"
   },
   "outputs": [
    {
     "name": "stdout",
     "output_type": "stream",
     "text": [
      "0L9H 17\n"
     ]
    }
   ],
   "source": [
    "# 其中0代表預測為空格，如果預測相同字符之間沒有空格要移除\n",
    "word = ''\n",
    "n = ''\n",
    "\n",
    "for single_result in y_pred[0].argmax(1):\n",
    "  if single_result != 36:\n",
    "    if n != single_result:\n",
    "      word+=characters[single_result]\n",
    "    n=single_result\n",
    "print(word, n)"
   ]
  },
  {
   "cell_type": "markdown",
   "metadata": {
    "colab_type": "text",
    "id": "fM4_a1snKzb1"
   },
   "source": [
    "## 額外參考：加入RNN的神經網路"
   ]
  },
  {
   "cell_type": "code",
   "execution_count": 13,
   "metadata": {
    "colab": {},
    "colab_type": "code",
    "id": "RpBAe4AoKzb2"
   },
   "outputs": [],
   "source": [
    "rnn_size = 128\n",
    "\n",
    "input_tensor = Input((height, width, 3))\n",
    "x = input_tensor\n",
    "\n",
    "for i in range(4):\n",
    "  x = Convolution2D(32, (3, 3), activation='relu')(x)\n",
    "  x = BatchNormalization(axis=-1)(x)\n",
    "  x = Convolution2D(32, (3, 3), activation='relu')(x)\n",
    "  x = BatchNormalization(axis=-1)(x)\n",
    "\n",
    "  if i < 3:\n",
    "    x = MaxPooling2D(pool_size=(2, 2))(x)\n",
    "  else:\n",
    "    x = MaxPooling2D(pool_size=(2, 1))(x)\n",
    "\n",
    "conv_shape = x.get_shape()\n",
    "\n",
    "x = Reshape(target_shape=(int(conv_shape[2]),\n",
    "                          int(conv_shape[1]*conv_shape[3])))(x)\n",
    "x = Dense(32, activation='relu')(x)\n",
    "\n",
    "gru_1 = GRU(rnn_size, return_sequences=True, kernel_initializer='he_normal',\n",
    "            name='gru1')(x)\n",
    "gru_1b = GRU(rnn_size, return_sequences=True, go_backwards=True,\n",
    "             kernel_initializer='he_normal', name='gru1_b')(x)\n",
    "gru1_merged = add([gru_1, gru_1b])\n",
    "\n",
    "gru_2 = GRU(rnn_size, return_sequences=True, kernel_initializer='he_normal',\n",
    "            name='gru2')(gru1_merged)\n",
    "gru_2b = GRU(rnn_size, return_sequences=True, go_backwards=True,\n",
    "             kernel_initializer='he_normal', name='gru2_b')(gru1_merged)\n",
    "\n",
    "x = Concatenate()([gru_2, gru_2b])\n",
    "x = Dropout(0.25)(x)\n",
    "x = Dense(n_class, kernel_initializer='he_normal', activation='softmax')(x)\n",
    "\n",
    "base_model = Model(inputs=input_tensor, outputs=x)\n",
    "\n",
    "labels = Input(name='the_labels', shape=[n_len], dtype='float32')\n",
    "input_length = Input(name='input_length', shape=[1], dtype='int64')\n",
    "label_length = Input(name='label_length', shape=[1], dtype='int64')\n",
    "loss_out = Lambda(ctc_lambda_func, output_shape=(1,),\n",
    "                  name='ctc')([x, labels, input_length, label_length])\n",
    "\n",
    "model = Model(inputs=[input_tensor, labels, input_length, label_length], outputs=[loss_out])\n",
    "model.compile(loss={'ctc': lambda y_true, y_pred: y_pred}, optimizer='Adam')"
   ]
  },
  {
   "cell_type": "code",
   "execution_count": 14,
   "metadata": {
    "colab": {
     "base_uri": "https://localhost:8080/",
     "height": 1000
    },
    "colab_type": "code",
    "id": "_8-wTedaKzb7",
    "outputId": "aa5d6ef9-04ac-4296-9a00-759cfb5ed33e"
   },
   "outputs": [
    {
     "name": "stdout",
     "output_type": "stream",
     "text": [
      "Model: \"model_3\"\n",
      "__________________________________________________________________________________________________\n",
      "Layer (type)                    Output Shape         Param #     Connected to                     \n",
      "==================================================================================================\n",
      "input_2 (InputLayer)            [(None, 80, 170, 3)] 0                                            \n",
      "__________________________________________________________________________________________________\n",
      "conv2d_8 (Conv2D)               (None, 78, 168, 32)  896         input_2[0][0]                    \n",
      "__________________________________________________________________________________________________\n",
      "batch_normalization_8 (BatchNor (None, 78, 168, 32)  128         conv2d_8[0][0]                   \n",
      "__________________________________________________________________________________________________\n",
      "conv2d_9 (Conv2D)               (None, 76, 166, 32)  9248        batch_normalization_8[0][0]      \n",
      "__________________________________________________________________________________________________\n",
      "batch_normalization_9 (BatchNor (None, 76, 166, 32)  128         conv2d_9[0][0]                   \n",
      "__________________________________________________________________________________________________\n",
      "max_pooling2d_4 (MaxPooling2D)  (None, 38, 83, 32)   0           batch_normalization_9[0][0]      \n",
      "__________________________________________________________________________________________________\n",
      "conv2d_10 (Conv2D)              (None, 36, 81, 32)   9248        max_pooling2d_4[0][0]            \n",
      "__________________________________________________________________________________________________\n",
      "batch_normalization_10 (BatchNo (None, 36, 81, 32)   128         conv2d_10[0][0]                  \n",
      "__________________________________________________________________________________________________\n",
      "conv2d_11 (Conv2D)              (None, 34, 79, 32)   9248        batch_normalization_10[0][0]     \n",
      "__________________________________________________________________________________________________\n",
      "batch_normalization_11 (BatchNo (None, 34, 79, 32)   128         conv2d_11[0][0]                  \n",
      "__________________________________________________________________________________________________\n",
      "max_pooling2d_5 (MaxPooling2D)  (None, 17, 39, 32)   0           batch_normalization_11[0][0]     \n",
      "__________________________________________________________________________________________________\n",
      "conv2d_12 (Conv2D)              (None, 15, 37, 32)   9248        max_pooling2d_5[0][0]            \n",
      "__________________________________________________________________________________________________\n",
      "batch_normalization_12 (BatchNo (None, 15, 37, 32)   128         conv2d_12[0][0]                  \n",
      "__________________________________________________________________________________________________\n",
      "conv2d_13 (Conv2D)              (None, 13, 35, 32)   9248        batch_normalization_12[0][0]     \n",
      "__________________________________________________________________________________________________\n",
      "batch_normalization_13 (BatchNo (None, 13, 35, 32)   128         conv2d_13[0][0]                  \n",
      "__________________________________________________________________________________________________\n",
      "max_pooling2d_6 (MaxPooling2D)  (None, 6, 17, 32)    0           batch_normalization_13[0][0]     \n",
      "__________________________________________________________________________________________________\n",
      "conv2d_14 (Conv2D)              (None, 4, 15, 32)    9248        max_pooling2d_6[0][0]            \n",
      "__________________________________________________________________________________________________\n",
      "batch_normalization_14 (BatchNo (None, 4, 15, 32)    128         conv2d_14[0][0]                  \n",
      "__________________________________________________________________________________________________\n",
      "conv2d_15 (Conv2D)              (None, 2, 13, 32)    9248        batch_normalization_14[0][0]     \n",
      "__________________________________________________________________________________________________\n",
      "batch_normalization_15 (BatchNo (None, 2, 13, 32)    128         conv2d_15[0][0]                  \n",
      "__________________________________________________________________________________________________\n",
      "max_pooling2d_7 (MaxPooling2D)  (None, 1, 13, 32)    0           batch_normalization_15[0][0]     \n",
      "__________________________________________________________________________________________________\n",
      "reshape_1 (Reshape)             (None, 13, 32)       0           max_pooling2d_7[0][0]            \n",
      "__________________________________________________________________________________________________\n",
      "dense_2 (Dense)                 (None, 13, 32)       1056        reshape_1[0][0]                  \n",
      "__________________________________________________________________________________________________\n",
      "gru1 (GRU)                      (None, 13, 128)      62208       dense_2[0][0]                    \n",
      "__________________________________________________________________________________________________\n",
      "gru1_b (GRU)                    (None, 13, 128)      62208       dense_2[0][0]                    \n",
      "__________________________________________________________________________________________________\n",
      "add (Add)                       (None, 13, 128)      0           gru1[0][0]                       \n",
      "                                                                 gru1_b[0][0]                     \n",
      "__________________________________________________________________________________________________\n",
      "gru2 (GRU)                      (None, 13, 128)      99072       add[0][0]                        \n",
      "__________________________________________________________________________________________________\n",
      "gru2_b (GRU)                    (None, 13, 128)      99072       add[0][0]                        \n",
      "__________________________________________________________________________________________________\n",
      "concatenate (Concatenate)       (None, 13, 256)      0           gru2[0][0]                       \n",
      "                                                                 gru2_b[0][0]                     \n",
      "__________________________________________________________________________________________________\n",
      "dropout_1 (Dropout)             (None, 13, 256)      0           concatenate[0][0]                \n",
      "__________________________________________________________________________________________________\n",
      "dense_3 (Dense)                 (None, 13, 37)       9509        dropout_1[0][0]                  \n",
      "__________________________________________________________________________________________________\n",
      "the_labels (InputLayer)         [(None, 4)]          0                                            \n",
      "__________________________________________________________________________________________________\n",
      "input_length (InputLayer)       [(None, 1)]          0                                            \n",
      "__________________________________________________________________________________________________\n",
      "label_length (InputLayer)       [(None, 1)]          0                                            \n",
      "__________________________________________________________________________________________________\n",
      "ctc (Lambda)                    (None, 1)            0           dense_3[0][0]                    \n",
      "                                                                 the_labels[0][0]                 \n",
      "                                                                 input_length[0][0]               \n",
      "                                                                 label_length[0][0]               \n",
      "==================================================================================================\n",
      "Total params: 399,781\n",
      "Trainable params: 399,269\n",
      "Non-trainable params: 512\n",
      "__________________________________________________________________________________________________\n"
     ]
    }
   ],
   "source": [
    "model.summary()"
   ]
  },
  {
   "cell_type": "code",
   "execution_count": 15,
   "metadata": {
    "colab": {
     "base_uri": "https://localhost:8080/",
     "height": 799
    },
    "colab_type": "code",
    "id": "jyYEOsMhGZ5m",
    "outputId": "3a1c753d-5f4d-4289-ce4d-8e65ae15916e"
   },
   "outputs": [
    {
     "name": "stdout",
     "output_type": "stream",
     "text": [
      "WARNING:tensorflow:sample_weight modes were coerced from\n",
      "  ...\n",
      "    to  \n",
      "  ['...']\n",
      "Train for 900 steps\n",
      "Epoch 1/20\n",
      "900/900 [==============================] - 140s 155ms/step - loss: 10.0162\n",
      "Epoch 2/20\n",
      "900/900 [==============================] - 135s 150ms/step - loss: 2.4365\n",
      "Epoch 3/20\n",
      "900/900 [==============================] - 135s 150ms/step - loss: 1.6607\n",
      "Epoch 4/20\n",
      "900/900 [==============================] - 135s 150ms/step - loss: 1.3462\n",
      "Epoch 5/20\n",
      "900/900 [==============================] - 138s 153ms/step - loss: 1.3249\n",
      "Epoch 6/20\n",
      "900/900 [==============================] - 139s 155ms/step - loss: 1.2550\n",
      "Epoch 7/20\n",
      "900/900 [==============================] - 144s 160ms/step - loss: 1.0085\n",
      "Epoch 8/20\n",
      "900/900 [==============================] - 145s 161ms/step - loss: 1.0020\n",
      "Epoch 9/20\n",
      "900/900 [==============================] - 145s 161ms/step - loss: 0.9588\n",
      "Epoch 10/20\n",
      "900/900 [==============================] - 146s 162ms/step - loss: 0.8803\n",
      "Epoch 11/20\n",
      "900/900 [==============================] - 147s 163ms/step - loss: 0.8796\n",
      "Epoch 12/20\n",
      "900/900 [==============================] - 149s 165ms/step - loss: 0.8707\n",
      "Epoch 13/20\n",
      "900/900 [==============================] - 149s 165ms/step - loss: 0.7738\n",
      "Epoch 14/20\n",
      "900/900 [==============================] - 149s 166ms/step - loss: 0.8468\n",
      "Epoch 15/20\n",
      "900/900 [==============================] - 149s 166ms/step - loss: 0.8158\n",
      "Epoch 16/20\n",
      "900/900 [==============================] - 150s 166ms/step - loss: 0.8016\n",
      "Epoch 17/20\n",
      "900/900 [==============================] - 150s 166ms/step - loss: 0.8328\n",
      "Epoch 18/20\n",
      "900/900 [==============================] - 150s 167ms/step - loss: 0.8152\n",
      "Epoch 19/20\n",
      "900/900 [==============================] - 148s 165ms/step - loss: 0.6732\n",
      "Epoch 20/20\n",
      "900/900 [==============================] - 147s 163ms/step - loss: 0.7300\n"
     ]
    },
    {
     "data": {
      "text/plain": [
       "<tensorflow.python.keras.callbacks.History at 0x7fa174449080>"
      ]
     },
     "execution_count": 15,
     "metadata": {
      "tags": []
     },
     "output_type": "execute_result"
    }
   ],
   "source": [
    "model.fit(gen(32), steps_per_epoch=900, epochs=20)"
   ]
  },
  {
   "cell_type": "code",
   "execution_count": 16,
   "metadata": {
    "colab": {
     "base_uri": "https://localhost:8080/",
     "height": 234
    },
    "colab_type": "code",
    "id": "qE7I02f8GjN3",
    "outputId": "fe494d45-de02-427c-d335-36fbe3e78509"
   },
   "outputs": [
    {
     "data": {
      "image/png": "[encoded data removed]",
      "text/plain": [
       "<Figure size 432x288 with 1 Axes>"
      ]
     },
     "metadata": {
      "image/png": {
       "height": 217,
       "width": 369
      },
      "tags": []
     },
     "output_type": "display_data"
    }
   ],
   "source": [
    "[X_test, y_test, _, _], _  = next(gen(1))\n",
    "y_pred = base_model.predict(X_test)\n",
    "\n",
    "# 用ctc_decode得到解答，自己寫可以參考下方\n",
    "out = K.get_value(K.ctc_decode(y_pred,\n",
    "                               input_length=np.ones(y_pred.shape[0])*y_pred.shape[1],)[0][0])\n",
    "out = ''.join([characters[x] for x in out[0]])\n",
    "y_true = ''.join([characters[x] for x in y_test[0]])\n",
    "\n",
    "plt.imshow(X_test[0])\n",
    "plt.title('pred:' + str(out) + '\\ntrue: ' + str(y_true))\n",
    "\n",
    "argmax = np.argmax(y_pred, axis=2)[0]"
   ]
  },
  {
   "cell_type": "code",
   "execution_count": 17,
   "metadata": {
    "colab": {
     "base_uri": "https://localhost:8080/",
     "height": 34
    },
    "colab_type": "code",
    "id": "kgdl-rvFcjpp",
    "outputId": "27ffb6ce-5c01-4ba9-8b35-9772ef39896b"
   },
   "outputs": [
    {
     "name": "stdout",
     "output_type": "stream",
     "text": [
      "8JFQ 26\n"
     ]
    }
   ],
   "source": [
    "# 其中0代表預測為空格，如果預測相同字符之間沒有空格要移除\n",
    "word = ''\n",
    "n = ''\n",
    "\n",
    "for single_result in y_pred[0].argmax(1):\n",
    "  if single_result != 36:\n",
    "    if n != single_result:\n",
    "      word+=characters[single_result]\n",
    "    n=single_result\n",
    "print(word, n)"
   ]
  }
 ],
 "metadata": {
  "accelerator": "GPU",
  "colab": {
   "collapsed_sections": [],
   "name": "Day022_Captcha_HW.ipynb",
   "provenance": []
  },
  "kernelspec": {
   "display_name": "Python 3",
   "language": "python",
   "name": "python3"
  },
  "language_info": {
   "codemirror_mode": {
    "name": "ipython",
    "version": 3
   },
   "file_extension": ".py",
   "mimetype": "text/x-python",
   "name": "python",
   "nbconvert_exporter": "python",
   "pygments_lexer": "ipython3",
   "version": "3.7.6"
  }
 },
 "nbformat": 4,
 "nbformat_minor": 1
}
