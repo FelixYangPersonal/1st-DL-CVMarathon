{
 "cells": [
  {
   "cell_type": "markdown",
   "metadata": {
    "colab_type": "text",
    "id": "CMxpFmJR_m6H"
   },
   "source": [
    "## 『本次練習內容』\n",
    "#### 運用這幾天所學觀念搭建一個CNN分類器"
   ]
  },
  {
   "cell_type": "markdown",
   "metadata": {
    "colab_type": "text",
    "id": "orTlfLzF_m6J"
   },
   "source": [
    "## 『本次練習目的』\n",
    "  #### 熟悉CNN分類器搭建步驟與原理\n",
    "  #### 學員們可以嘗試不同搭法，如使用不同的Maxpooling層，用GlobalAveragePooling取代Flatten等等"
   ]
  },
  {
   "cell_type": "code",
   "execution_count": 1,
   "metadata": {
    "colab": {
     "base_uri": "https://localhost:8080/",
     "height": 34
    },
    "colab_type": "code",
    "id": "LcCbdUhR_m6K",
    "outputId": "0495dac5-ce22-463e-d8be-1844ad3ba6a2"
   },
   "outputs": [
    {
     "name": "stdout",
     "output_type": "stream",
     "text": [
      "TensorFlow 2.x selected.\n"
     ]
    }
   ],
   "source": [
    "%tensorflow_version 2.x\n",
    "from tensorflow.keras.models import Sequential\n",
    "from tensorflow.keras.layers import Convolution2D\n",
    "from tensorflow.keras.layers import MaxPooling2D\n",
    "from tensorflow.keras.layers import Flatten\n",
    "from tensorflow.keras.layers import Dense\n",
    "from tensorflow.keras.layers import Dropout\n",
    "from tensorflow.keras.layers import BatchNormalization\n",
    "from tensorflow.keras.datasets import cifar10\n",
    "import numpy as np\n",
    "import tensorflow as tf\n",
    "from sklearn.preprocessing import OneHotEncoder\n"
   ]
  },
  {
   "cell_type": "code",
   "execution_count": 2,
   "metadata": {
    "colab": {
     "base_uri": "https://localhost:8080/",
     "height": 34
    },
    "colab_type": "code",
    "id": "libFadyr_m6O",
    "outputId": "35de38fd-6e1f-4c59-aa54-a9f038badd29"
   },
   "outputs": [
    {
     "name": "stdout",
     "output_type": "stream",
     "text": [
      "(50000, 32, 32, 3)\n"
     ]
    }
   ],
   "source": [
    "(x_train, y_train), (x_test, y_test) = cifar10.load_data()\n",
    "\n",
    "print(x_train.shape) #(50000, 32, 32, 3)\n",
    "\n",
    "## Normalize Data\n",
    "def normalize(X_train,X_test):\n",
    "        mean = np.mean(X_train,axis=(0,1,2,3))\n",
    "        std = np.std(X_train, axis=(0, 1, 2, 3))\n",
    "        X_train = (X_train-mean)/(std+1e-7)\n",
    "        X_test = (X_test-mean)/(std+1e-7) \n",
    "        return X_train, X_test,mean,std\n",
    "    \n",
    "    \n",
    "## Normalize Training and Testset    \n",
    "x_train, x_test,mean_train,std_train = normalize(x_train, x_test) "
   ]
  },
  {
   "cell_type": "code",
   "execution_count": 0,
   "metadata": {
    "colab": {},
    "colab_type": "code",
    "id": "ihpKL-Cu_m6T"
   },
   "outputs": [],
   "source": [
    "## OneHot Label 由(None, 1)-(None, 10)\n",
    "## ex. label=2,變成[0,0,1,0,0,0,0,0,0,0]\n",
    "one_hot=OneHotEncoder(categories='auto')\n",
    "y_train=one_hot.fit_transform(y_train).toarray()\n",
    "y_test=one_hot.transform(y_test).toarray()"
   ]
  },
  {
   "cell_type": "code",
   "execution_count": 4,
   "metadata": {
    "colab": {
     "base_uri": "https://localhost:8080/",
     "height": 1000
    },
    "colab_type": "code",
    "id": "bom6Hl5h_m6V",
    "outputId": "e891cf3d-07ca-4c26-be82-2fbbcc7973ab"
   },
   "outputs": [
    {
     "name": "stdout",
     "output_type": "stream",
     "text": [
      "Train on 50000 samples\n",
      "Epoch 1/100\n",
      "50000/50000 [==============================] - 9s 177us/sample - loss: 1.6771 - accuracy: 0.3891\n",
      "Epoch 2/100\n",
      "50000/50000 [==============================] - 4s 76us/sample - loss: 1.0924 - accuracy: 0.6121\n",
      "Epoch 3/100\n",
      "50000/50000 [==============================] - 4s 76us/sample - loss: 0.9192 - accuracy: 0.6750\n",
      "Epoch 4/100\n",
      "50000/50000 [==============================] - 4s 76us/sample - loss: 0.8136 - accuracy: 0.7117\n",
      "Epoch 5/100\n",
      "50000/50000 [==============================] - 4s 77us/sample - loss: 0.7234 - accuracy: 0.7450\n",
      "Epoch 6/100\n",
      "50000/50000 [==============================] - 4s 76us/sample - loss: 0.6368 - accuracy: 0.7736\n",
      "Epoch 7/100\n",
      "50000/50000 [==============================] - 4s 75us/sample - loss: 0.5578 - accuracy: 0.8019\n",
      "Epoch 8/100\n",
      "50000/50000 [==============================] - 4s 76us/sample - loss: 1.1212 - accuracy: 0.5748\n",
      "Epoch 9/100\n",
      "50000/50000 [==============================] - 4s 75us/sample - loss: 2.3026 - accuracy: 0.1000\n",
      "Epoch 10/100\n",
      "50000/50000 [==============================] - 4s 76us/sample - loss: 2.3026 - accuracy: 0.1000\n",
      "Epoch 11/100\n",
      "50000/50000 [==============================] - 4s 76us/sample - loss: 2.3026 - accuracy: 0.1000\n",
      "Epoch 12/100\n",
      "50000/50000 [==============================] - 4s 75us/sample - loss: 2.3026 - accuracy: 0.1000\n",
      "Epoch 13/100\n",
      "50000/50000 [==============================] - 4s 76us/sample - loss: 2.3026 - accuracy: 0.1000\n",
      "Epoch 14/100\n",
      "50000/50000 [==============================] - 4s 75us/sample - loss: 2.3026 - accuracy: 0.1000\n",
      "Epoch 15/100\n",
      "50000/50000 [==============================] - 4s 75us/sample - loss: 2.3026 - accuracy: 0.1000\n",
      "Epoch 16/100\n",
      "50000/50000 [==============================] - 4s 76us/sample - loss: 2.3026 - accuracy: 0.1000\n",
      "Epoch 17/100\n",
      "50000/50000 [==============================] - 4s 76us/sample - loss: 2.3026 - accuracy: 0.1000\n",
      "Epoch 18/100\n",
      "50000/50000 [==============================] - 4s 75us/sample - loss: 2.3026 - accuracy: 0.1000\n",
      "Epoch 19/100\n",
      "50000/50000 [==============================] - 4s 75us/sample - loss: 2.3026 - accuracy: 0.1000\n",
      "Epoch 20/100\n",
      "50000/50000 [==============================] - 4s 75us/sample - loss: 2.3026 - accuracy: 0.1000\n",
      "Epoch 21/100\n",
      "50000/50000 [==============================] - 4s 76us/sample - loss: 2.3026 - accuracy: 0.1000\n",
      "Epoch 22/100\n",
      "50000/50000 [==============================] - 4s 75us/sample - loss: 2.3026 - accuracy: 0.1000\n",
      "Epoch 23/100\n",
      "50000/50000 [==============================] - 4s 75us/sample - loss: 2.3026 - accuracy: 0.1000\n",
      "Epoch 24/100\n",
      "50000/50000 [==============================] - 4s 76us/sample - loss: 2.3026 - accuracy: 0.1000\n",
      "Epoch 25/100\n",
      "50000/50000 [==============================] - 4s 75us/sample - loss: 2.3026 - accuracy: 0.1000\n",
      "Epoch 26/100\n",
      "50000/50000 [==============================] - 4s 76us/sample - loss: 2.3026 - accuracy: 0.1000\n",
      "Epoch 27/100\n",
      "50000/50000 [==============================] - 4s 75us/sample - loss: 2.3026 - accuracy: 0.1000\n",
      "Epoch 28/100\n",
      "50000/50000 [==============================] - 4s 76us/sample - loss: 2.3026 - accuracy: 0.1000\n",
      "Epoch 29/100\n",
      "50000/50000 [==============================] - 4s 75us/sample - loss: 2.3026 - accuracy: 0.1000\n",
      "Epoch 30/100\n",
      "50000/50000 [==============================] - 4s 75us/sample - loss: 2.3026 - accuracy: 0.1000\n",
      "Epoch 31/100\n",
      "50000/50000 [==============================] - 4s 75us/sample - loss: 2.3026 - accuracy: 0.1000\n",
      "Epoch 32/100\n",
      "50000/50000 [==============================] - 4s 75us/sample - loss: 2.3026 - accuracy: 0.1000\n",
      "Epoch 33/100\n",
      "50000/50000 [==============================] - 4s 75us/sample - loss: 2.3026 - accuracy: 0.1000\n",
      "Epoch 34/100\n",
      "50000/50000 [==============================] - 4s 76us/sample - loss: 2.3026 - accuracy: 0.1000\n",
      "Epoch 35/100\n",
      "50000/50000 [==============================] - 4s 77us/sample - loss: 2.3026 - accuracy: 0.1000\n",
      "Epoch 36/100\n",
      "50000/50000 [==============================] - 4s 76us/sample - loss: 2.3026 - accuracy: 0.1000\n",
      "Epoch 37/100\n",
      "50000/50000 [==============================] - 4s 75us/sample - loss: 2.3026 - accuracy: 0.1000\n",
      "Epoch 38/100\n",
      "50000/50000 [==============================] - 4s 75us/sample - loss: 2.3026 - accuracy: 0.1000\n",
      "Epoch 39/100\n",
      "50000/50000 [==============================] - 4s 76us/sample - loss: 2.3026 - accuracy: 0.1000\n",
      "Epoch 40/100\n",
      "50000/50000 [==============================] - 4s 76us/sample - loss: 2.3026 - accuracy: 0.1000\n",
      "Epoch 41/100\n",
      "50000/50000 [==============================] - 4s 75us/sample - loss: 2.3026 - accuracy: 0.1000\n",
      "Epoch 42/100\n",
      "50000/50000 [==============================] - 4s 76us/sample - loss: 2.3026 - accuracy: 0.1000\n",
      "Epoch 43/100\n",
      "50000/50000 [==============================] - 4s 75us/sample - loss: 2.3026 - accuracy: 0.1000\n",
      "Epoch 44/100\n",
      "50000/50000 [==============================] - 4s 74us/sample - loss: 2.3026 - accuracy: 0.1000\n",
      "Epoch 45/100\n",
      "50000/50000 [==============================] - 4s 76us/sample - loss: 2.3026 - accuracy: 0.1000\n",
      "Epoch 46/100\n",
      "50000/50000 [==============================] - 4s 74us/sample - loss: 2.3026 - accuracy: 0.1000\n",
      "Epoch 47/100\n",
      "50000/50000 [==============================] - 4s 75us/sample - loss: 2.3026 - accuracy: 0.1000\n",
      "Epoch 48/100\n",
      "50000/50000 [==============================] - 4s 74us/sample - loss: 2.3026 - accuracy: 0.1000\n",
      "Epoch 49/100\n",
      "50000/50000 [==============================] - 4s 75us/sample - loss: 2.3026 - accuracy: 0.1000\n",
      "Epoch 50/100\n",
      "50000/50000 [==============================] - 4s 75us/sample - loss: 2.3026 - accuracy: 0.1000\n",
      "Epoch 51/100\n",
      "50000/50000 [==============================] - 4s 75us/sample - loss: 2.3026 - accuracy: 0.1000\n",
      "Epoch 52/100\n",
      "50000/50000 [==============================] - 4s 75us/sample - loss: 2.3026 - accuracy: 0.1000\n",
      "Epoch 53/100\n",
      "50000/50000 [==============================] - 4s 75us/sample - loss: 2.3026 - accuracy: 0.1000\n",
      "Epoch 54/100\n",
      "50000/50000 [==============================] - 4s 76us/sample - loss: 2.3026 - accuracy: 0.1000\n",
      "Epoch 55/100\n",
      "50000/50000 [==============================] - 4s 75us/sample - loss: 2.3026 - accuracy: 0.1000\n",
      "Epoch 56/100\n",
      "50000/50000 [==============================] - 4s 75us/sample - loss: 2.3026 - accuracy: 0.1000\n",
      "Epoch 57/100\n",
      "50000/50000 [==============================] - 4s 75us/sample - loss: 2.3026 - accuracy: 0.1000\n",
      "Epoch 58/100\n",
      "50000/50000 [==============================] - 4s 75us/sample - loss: 2.3026 - accuracy: 0.1000\n",
      "Epoch 59/100\n",
      "50000/50000 [==============================] - 4s 74us/sample - loss: 2.3026 - accuracy: 0.1000\n",
      "Epoch 60/100\n",
      "50000/50000 [==============================] - 4s 75us/sample - loss: 2.3026 - accuracy: 0.1000\n",
      "Epoch 61/100\n",
      "50000/50000 [==============================] - 4s 75us/sample - loss: 2.3026 - accuracy: 0.1000\n",
      "Epoch 62/100\n",
      "50000/50000 [==============================] - 4s 75us/sample - loss: 2.3026 - accuracy: 0.1000\n",
      "Epoch 63/100\n",
      "50000/50000 [==============================] - 4s 75us/sample - loss: 2.3026 - accuracy: 0.1000\n",
      "Epoch 64/100\n",
      "50000/50000 [==============================] - 4s 77us/sample - loss: 2.3026 - accuracy: 0.1000\n",
      "Epoch 65/100\n",
      "50000/50000 [==============================] - 4s 78us/sample - loss: 2.3026 - accuracy: 0.1000\n",
      "Epoch 66/100\n",
      "50000/50000 [==============================] - 4s 75us/sample - loss: 2.3026 - accuracy: 0.1000\n",
      "Epoch 67/100\n",
      "50000/50000 [==============================] - 4s 74us/sample - loss: 2.3026 - accuracy: 0.1000\n",
      "Epoch 68/100\n",
      "50000/50000 [==============================] - 4s 75us/sample - loss: 2.3026 - accuracy: 0.1000\n",
      "Epoch 69/100\n",
      "50000/50000 [==============================] - 4s 75us/sample - loss: 2.3026 - accuracy: 0.1000\n",
      "Epoch 70/100\n",
      "50000/50000 [==============================] - 4s 76us/sample - loss: 2.3026 - accuracy: 0.1000\n",
      "Epoch 71/100\n",
      "50000/50000 [==============================] - 4s 75us/sample - loss: 2.3026 - accuracy: 0.1000\n",
      "Epoch 72/100\n",
      "50000/50000 [==============================] - 4s 75us/sample - loss: 2.3026 - accuracy: 0.1000\n",
      "Epoch 73/100\n",
      "50000/50000 [==============================] - 4s 74us/sample - loss: 2.3026 - accuracy: 0.1000\n",
      "Epoch 74/100\n",
      "50000/50000 [==============================] - 4s 74us/sample - loss: 2.3026 - accuracy: 0.1000\n",
      "Epoch 75/100\n",
      "50000/50000 [==============================] - 4s 74us/sample - loss: 2.3026 - accuracy: 0.1000\n",
      "Epoch 76/100\n",
      "50000/50000 [==============================] - 4s 74us/sample - loss: 2.3026 - accuracy: 0.1000\n",
      "Epoch 77/100\n",
      "50000/50000 [==============================] - 4s 76us/sample - loss: 2.3026 - accuracy: 0.1000\n",
      "Epoch 78/100\n",
      "50000/50000 [==============================] - 4s 75us/sample - loss: 2.3026 - accuracy: 0.1000\n",
      "Epoch 79/100\n",
      "50000/50000 [==============================] - 4s 75us/sample - loss: 2.3026 - accuracy: 0.1000\n",
      "Epoch 80/100\n",
      "50000/50000 [==============================] - 4s 76us/sample - loss: 2.3026 - accuracy: 0.1000\n",
      "Epoch 81/100\n",
      "50000/50000 [==============================] - 4s 75us/sample - loss: 2.3026 - accuracy: 0.1000\n",
      "Epoch 82/100\n",
      "50000/50000 [==============================] - 4s 76us/sample - loss: 2.3026 - accuracy: 0.1000\n",
      "Epoch 83/100\n",
      "50000/50000 [==============================] - 4s 75us/sample - loss: 2.3026 - accuracy: 0.1000\n",
      "Epoch 84/100\n",
      "50000/50000 [==============================] - 4s 74us/sample - loss: 2.3026 - accuracy: 0.1000\n",
      "Epoch 85/100\n",
      "50000/50000 [==============================] - 4s 74us/sample - loss: 2.3026 - accuracy: 0.1000\n",
      "Epoch 86/100\n",
      "50000/50000 [==============================] - 4s 74us/sample - loss: 2.3026 - accuracy: 0.1000\n",
      "Epoch 87/100\n",
      "50000/50000 [==============================] - 4s 74us/sample - loss: 2.3026 - accuracy: 0.1000\n",
      "Epoch 88/100\n",
      "50000/50000 [==============================] - 4s 74us/sample - loss: 2.3026 - accuracy: 0.1000\n",
      "Epoch 89/100\n",
      "50000/50000 [==============================] - 4s 75us/sample - loss: 2.3026 - accuracy: 0.1000\n",
      "Epoch 90/100\n",
      "50000/50000 [==============================] - 4s 74us/sample - loss: 2.3026 - accuracy: 0.1000\n",
      "Epoch 91/100\n",
      "50000/50000 [==============================] - 4s 73us/sample - loss: 2.3026 - accuracy: 0.1000\n",
      "Epoch 92/100\n",
      "50000/50000 [==============================] - 4s 75us/sample - loss: 2.3026 - accuracy: 0.1000\n",
      "Epoch 93/100\n",
      "50000/50000 [==============================] - 4s 75us/sample - loss: 2.3026 - accuracy: 0.1000\n",
      "Epoch 94/100\n",
      "50000/50000 [==============================] - 4s 75us/sample - loss: 2.3026 - accuracy: 0.1000\n",
      "Epoch 95/100\n",
      "50000/50000 [==============================] - 4s 75us/sample - loss: 2.3026 - accuracy: 0.1000\n",
      "Epoch 96/100\n",
      "50000/50000 [==============================] - 4s 74us/sample - loss: 2.3026 - accuracy: 0.1000\n",
      "Epoch 97/100\n",
      "50000/50000 [==============================] - 4s 75us/sample - loss: 2.3026 - accuracy: 0.1000\n",
      "Epoch 98/100\n",
      "50000/50000 [==============================] - 4s 74us/sample - loss: 2.3026 - accuracy: 0.1000\n",
      "Epoch 99/100\n",
      "50000/50000 [==============================] - 4s 74us/sample - loss: 2.3026 - accuracy: 0.1000\n",
      "Epoch 100/100\n",
      "50000/50000 [==============================] - 4s 74us/sample - loss: 2.3026 - accuracy: 0.1000\n"
     ]
    },
    {
     "data": {
      "text/plain": [
       "<tensorflow.python.keras.callbacks.History at 0x7f5700266e10>"
      ]
     },
     "execution_count": 4,
     "metadata": {
      "tags": []
     },
     "output_type": "execute_result"
    }
   ],
   "source": [
    "\n",
    "classifier = Sequential()\n",
    "\n",
    "#卷積組合\n",
    "classifier.add(Convolution2D(32, (3,3), input_shape=(32,32,3), activation='relu'))#32,3,3,input_shape=(32,32,3),activation='relu''\n",
    "classifier.add(BatchNormalization())\n",
    "\n",
    "'''自己決定MaxPooling2D放在哪裡'''\n",
    "#classifier.add(MaxPooling2D(pool_size=(2,2)))\n",
    "\n",
    "#卷積組合\n",
    "classifier.add(Convolution2D(64, (3,3)))\n",
    "classifier.add(BatchNormalization())\n",
    "\n",
    "classifier.add(MaxPooling2D(pool_size=(2,2)))\n",
    "\n",
    "#flatten\n",
    "classifier.add(Flatten())\n",
    "\n",
    "#FC\n",
    "classifier.add(Dense(units=100, activation='relu')) #output_dim=100,activation=relu\n",
    "\n",
    "#輸出\n",
    "classifier.add(Dense(units=10,activation='sigmoid'))\n",
    "\n",
    "#超過兩個就要選categorical_crossentrophy\n",
    "classifier.compile(optimizer = 'adam', loss = 'categorical_crossentropy', metrics = ['accuracy'])\n",
    "classifier.fit(x_train,y_train,batch_size=100,epochs=100)"
   ]
  },
  {
   "cell_type": "markdown",
   "metadata": {
    "colab_type": "text",
    "id": "JzeSDUoT_m6X"
   },
   "source": [
    "## 預測新圖片，輸入影像前處理要與訓練時相同\n",
    "#### ((X-mean)/(std+1e-7) ):這裡的mean跟std是訓練集的\n",
    "## 維度如下方示範"
   ]
  },
  {
   "cell_type": "code",
   "execution_count": 5,
   "metadata": {
    "colab": {
     "base_uri": "https://localhost:8080/",
     "height": 34
    },
    "colab_type": "code",
    "id": "RGcczTIN_m6Y",
    "outputId": "c0f83d54-1a98-4e5b-ffef-489cbcf302c6"
   },
   "outputs": [
    {
     "data": {
      "text/plain": [
       "array([[ 1.,  1.,  1.,  1.,  1.,  1.,  1.,  1., nan, nan]], dtype=float32)"
      ]
     },
     "execution_count": 5,
     "metadata": {
      "tags": []
     },
     "output_type": "execute_result"
    }
   ],
   "source": [
    "input_example=(np.zeros(shape=(1,32,32,3))-mean_train)/(std_train+1e-7) \n",
    "classifier.predict(input_example)"
   ]
  }
 ],
 "metadata": {
  "accelerator": "GPU",
  "colab": {
   "collapsed_sections": [],
   "name": "Day015_Cifar_HW.ipynb",
   "provenance": []
  },
  "kernelspec": {
   "display_name": "Python 3",
   "language": "python",
   "name": "python3"
  },
  "language_info": {
   "codemirror_mode": {
    "name": "ipython",
    "version": 3
   },
   "file_extension": ".py",
   "mimetype": "text/x-python",
   "name": "python",
   "nbconvert_exporter": "python",
   "pygments_lexer": "ipython3",
   "version": "3.7.4"
  }
 },
 "nbformat": 4,
 "nbformat_minor": 1
}
